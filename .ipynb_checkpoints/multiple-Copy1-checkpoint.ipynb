{
 "cells": [
  {
   "cell_type": "code",
   "execution_count": 135,
   "metadata": {},
   "outputs": [],
   "source": [
    "from datetime import datetime, timedelta\n",
    "import pandas as pd\n",
    "import pandas\n",
    "import matplotlib.pyplot as plt\n",
    "import numpy as np\n",
    "from scipy.stats import norm\n",
    "from scipy.fftpack import fft"
   ]
  },
  {
   "cell_type": "code",
   "execution_count": 136,
   "metadata": {},
   "outputs": [],
   "source": [
    "numFiles = 5\n",
    "cgm_values = [pd.read_csv('dm_proj1_data/CGMSeriesLunchPat{}.csv'.format(i)) for i in range(1, numFiles + 1)]\n",
    "cgm_timestamps = [pd.read_csv('dm_proj1_data/CGMDatenumLunchPat{}.csv'.format(i)) for i in range(1, numFiles + 1)]"
   ]
  },
  {
   "cell_type": "code",
   "execution_count": 137,
   "metadata": {},
   "outputs": [],
   "source": [
    "def mdate_to_pdate(mdate):\n",
    "    return (datetime.fromordinal(int(mdate)) + timedelta(days=mdate % 1) - timedelta(days=366)).strftime(\"%Y-%m-%d %H:%M:%S\")"
   ]
  },
  {
   "cell_type": "code",
   "execution_count": 93,
   "metadata": {
    "scrolled": true
   },
   "outputs": [],
   "source": [
    "# print('first', mdate_to_pdate(737225.5842))\n",
    "# print('last', mdate_to_pdate(737225.48))"
   ]
  },
  {
   "cell_type": "code",
   "execution_count": 138,
   "metadata": {},
   "outputs": [],
   "source": [
    "def epochToDate(cgmT):\n",
    "    for col in cgmT.columns:\n",
    "        cgmT[col] = cgmT[col].apply(lambda x: mdate_to_pdate(x) if pd.notnull(x) else x)\n",
    "\n",
    "for i in range(numFiles):\n",
    "    epochToDate(cgm_timestamps[i])"
   ]
  },
  {
   "cell_type": "code",
   "execution_count": 139,
   "metadata": {},
   "outputs": [],
   "source": [
    "for i in range(numFiles):\n",
    "    cgm_timestamps[i], cgm_values[i] = cgm_timestamps[i].T, cgm_values[i].T"
   ]
  },
  {
   "cell_type": "code",
   "execution_count": 140,
   "metadata": {},
   "outputs": [],
   "source": [
    "for i in range(numFiles):\n",
    "    cgm_timestamps[i] = cgm_timestamps[i].set_index([pandas.Index(['cgm_{}'.format(i) for i in range(1, len(cgm_timestamps[i]) + 1)])])\n",
    "    cgm_values[i] = cgm_values[i].set_index([pandas.Index(['cgm_{}'.format(i) for i in range(1, len(cgm_timestamps[i]) + 1)])])"
   ]
  },
  {
   "cell_type": "code",
   "execution_count": 141,
   "metadata": {},
   "outputs": [],
   "source": [
    "cgm_merged = []\n",
    "for i in range(numFiles):\n",
    "    cgm_merged.append(pandas.merge(cgm_timestamps[i], cgm_values[i], how=\"inner\", left_index=True, right_index=True))"
   ]
  },
  {
   "cell_type": "code",
   "execution_count": 142,
   "metadata": {
    "scrolled": true
   },
   "outputs": [],
   "source": [
    "def colNames(cgmM):\n",
    "    cols = cgmM.columns.tolist()\n",
    "    new_cols = []\n",
    "    for i in range(len(cols) // 2):\n",
    "        new_cols.extend([cols[i], cols[len(cols) // 2 + i]])\n",
    "    return new_cols\n",
    "\n",
    "\n",
    "cols = []\n",
    "for i in range(numFiles):\n",
    "    cols.append(colNames(cgm_merged[i]))"
   ]
  },
  {
   "cell_type": "code",
   "execution_count": 143,
   "metadata": {},
   "outputs": [],
   "source": [
    "for i in range(numFiles):\n",
    "    cgm_merged[i] = cgm_merged[i][cols[i]]\n",
    "    cgm_merged[i] = cgm_merged[i].fillna(method='ffill', limit=2)"
   ]
  },
  {
   "cell_type": "code",
   "execution_count": 144,
   "metadata": {},
   "outputs": [],
   "source": [
    "# sort timeseries\n",
    "for j in range(numFiles):\n",
    "    for i in cgm_merged[j].columns:\n",
    "        cgm_merged[j][i] = cgm_merged[j][i].values[::-1]"
   ]
  },
  {
   "cell_type": "code",
   "execution_count": 102,
   "metadata": {},
   "outputs": [],
   "source": [
    "# for i in range(1, numFiles + 1):\n",
    "#     cgm_merged.to_csv(\"dm_proj1_data/intermediate_files/cgm_merged_{}.csv\".format(i))"
   ]
  },
  {
   "cell_type": "code",
   "execution_count": 103,
   "metadata": {},
   "outputs": [],
   "source": [
    "# cgmM = cgm_merged[0]\n",
    "# for cgmM in cgm_merged:\n",
    "#     for i in range(len(cgmM)):\n",
    "#         x, y = str(i) + \"_x\", str(i) + \"_y\"\n",
    "#         plt.plot(cgmM[x], cgmM[y])\n",
    "#         plt.title(\"Patient: 1 Meal #{}\".format(x.split(\"_\")[0]))\n",
    "#         plt.xticks(rotation=90)\n",
    "#         plt.savefig(\"Meal_{}.png\".format(x.split(\"_\")[0]))\n",
    "#         plt.close()\n"
   ]
  },
  {
   "cell_type": "code",
   "execution_count": 149,
   "metadata": {},
   "outputs": [
    {
     "name": "stdout",
     "output_type": "stream",
     "text": [
      "[{}, {10: None}, {0: None, 9: None}, {12: None, 16: None, 20: None}, {3: None}]\n"
     ]
    }
   ],
   "source": [
    "skipCols=[]\n",
    "for idx in range(numFiles):\n",
    "    delCol = []\n",
    "    for i in range(len(cgm_merged[idx]) // 2):\n",
    "        y = '{}_y'.format(i)\n",
    "        delCol.append(i) if sum(pd.isnull(cgm_merged[idx][y])) >= len(cgm_merged[idx][y]) // 2 else None\n",
    "    skipCols.append({} if not delCol else {j:None for j in delCol})\n",
    "print(skipCols)\n",
    "\n",
    "def checkNaN(skipCols,idx,i):\n",
    "    return False if not skipCols[idx] else True if skipCols[idx].__contains__(i) else False"
   ]
  },
  {
   "cell_type": "code",
   "execution_count": 133,
   "metadata": {
    "scrolled": true
   },
   "outputs": [
    {
     "ename": "KeyError",
     "evalue": "'33_y'",
     "output_type": "error",
     "traceback": [
      "\u001b[1;31m---------------------------------------------------------------------------\u001b[0m",
      "\u001b[1;31mKeyError\u001b[0m                                  Traceback (most recent call last)",
      "\u001b[1;32mc:\\users\\infernal\\appdata\\local\\programs\\python\\python37-32\\lib\\site-packages\\pandas\\core\\indexes\\base.py\u001b[0m in \u001b[0;36mget_loc\u001b[1;34m(self, key, method, tolerance)\u001b[0m\n\u001b[0;32m   3077\u001b[0m             \u001b[1;32mtry\u001b[0m\u001b[1;33m:\u001b[0m\u001b[1;33m\u001b[0m\u001b[1;33m\u001b[0m\u001b[0m\n\u001b[1;32m-> 3078\u001b[1;33m                 \u001b[1;32mreturn\u001b[0m \u001b[0mself\u001b[0m\u001b[1;33m.\u001b[0m\u001b[0m_engine\u001b[0m\u001b[1;33m.\u001b[0m\u001b[0mget_loc\u001b[0m\u001b[1;33m(\u001b[0m\u001b[0mkey\u001b[0m\u001b[1;33m)\u001b[0m\u001b[1;33m\u001b[0m\u001b[1;33m\u001b[0m\u001b[0m\n\u001b[0m\u001b[0;32m   3079\u001b[0m             \u001b[1;32mexcept\u001b[0m \u001b[0mKeyError\u001b[0m\u001b[1;33m:\u001b[0m\u001b[1;33m\u001b[0m\u001b[1;33m\u001b[0m\u001b[0m\n",
      "\u001b[1;32mpandas\\_libs\\index.pyx\u001b[0m in \u001b[0;36mpandas._libs.index.IndexEngine.get_loc\u001b[1;34m()\u001b[0m\n",
      "\u001b[1;32mpandas\\_libs\\index.pyx\u001b[0m in \u001b[0;36mpandas._libs.index.IndexEngine.get_loc\u001b[1;34m()\u001b[0m\n",
      "\u001b[1;32mpandas\\_libs\\hashtable_class_helper.pxi\u001b[0m in \u001b[0;36mpandas._libs.hashtable.PyObjectHashTable.get_item\u001b[1;34m()\u001b[0m\n",
      "\u001b[1;32mpandas\\_libs\\hashtable_class_helper.pxi\u001b[0m in \u001b[0;36mpandas._libs.hashtable.PyObjectHashTable.get_item\u001b[1;34m()\u001b[0m\n",
      "\u001b[1;31mKeyError\u001b[0m: '33_y'",
      "\nDuring handling of the above exception, another exception occurred:\n",
      "\u001b[1;31mKeyError\u001b[0m                                  Traceback (most recent call last)",
      "\u001b[1;32m<ipython-input-133-9c8f65d968a6>\u001b[0m in \u001b[0;36m<module>\u001b[1;34m\u001b[0m\n\u001b[0;32m     19\u001b[0m \u001b[1;33m\u001b[0m\u001b[0m\n\u001b[0;32m     20\u001b[0m \u001b[1;32mfor\u001b[0m \u001b[0mi\u001b[0m \u001b[1;32min\u001b[0m \u001b[0mrange\u001b[0m\u001b[1;33m(\u001b[0m\u001b[0mnumFiles\u001b[0m\u001b[1;33m)\u001b[0m\u001b[1;33m:\u001b[0m\u001b[1;33m\u001b[0m\u001b[1;33m\u001b[0m\u001b[0m\n\u001b[1;32m---> 21\u001b[1;33m     \u001b[0maddOutofRange\u001b[0m\u001b[1;33m(\u001b[0m\u001b[0mcgm_merged\u001b[0m\u001b[1;33m[\u001b[0m\u001b[0mi\u001b[0m\u001b[1;33m]\u001b[0m\u001b[1;33m,\u001b[0m\u001b[0mi\u001b[0m\u001b[1;33m)\u001b[0m\u001b[1;33m\u001b[0m\u001b[1;33m\u001b[0m\u001b[0m\n\u001b[0m",
      "\u001b[1;32m<ipython-input-133-9c8f65d968a6>\u001b[0m in \u001b[0;36maddOutofRange\u001b[1;34m(cgmMO, fileIdx)\u001b[0m\n\u001b[0;32m      3\u001b[0m     \u001b[1;32mfor\u001b[0m \u001b[0mi\u001b[0m \u001b[1;32min\u001b[0m \u001b[0mrange\u001b[0m\u001b[1;33m(\u001b[0m\u001b[0mlen\u001b[0m\u001b[1;33m(\u001b[0m\u001b[0mcgmMO\u001b[0m\u001b[1;33m.\u001b[0m\u001b[0mcolumns\u001b[0m\u001b[1;33m)\u001b[0m \u001b[1;33m//\u001b[0m \u001b[1;36m2\u001b[0m\u001b[1;33m)\u001b[0m\u001b[1;33m:\u001b[0m\u001b[1;33m\u001b[0m\u001b[1;33m\u001b[0m\u001b[0m\n\u001b[0;32m      4\u001b[0m         \u001b[1;32mif\u001b[0m \u001b[1;32mnot\u001b[0m \u001b[0mcheckNaN\u001b[0m\u001b[1;33m(\u001b[0m\u001b[0mskipCols\u001b[0m\u001b[1;33m,\u001b[0m\u001b[0mfileIdx\u001b[0m\u001b[1;33m,\u001b[0m\u001b[0mi\u001b[0m\u001b[1;33m)\u001b[0m\u001b[1;33m:\u001b[0m\u001b[1;33m\u001b[0m\u001b[1;33m\u001b[0m\u001b[0m\n\u001b[1;32m----> 5\u001b[1;33m             \u001b[0mcgmMO\u001b[0m\u001b[1;33m.\u001b[0m\u001b[0minsert\u001b[0m\u001b[1;33m(\u001b[0m\u001b[0mnum\u001b[0m\u001b[1;33m,\u001b[0m \u001b[1;34m'{}_out_of_range'\u001b[0m\u001b[1;33m.\u001b[0m\u001b[0mformat\u001b[0m\u001b[1;33m(\u001b[0m\u001b[0mi\u001b[0m\u001b[1;33m)\u001b[0m\u001b[1;33m,\u001b[0m \u001b[1;33m[\u001b[0m\u001b[1;36m70\u001b[0m \u001b[1;33m-\u001b[0m \u001b[0mj\u001b[0m \u001b[1;32mif\u001b[0m \u001b[0mj\u001b[0m \u001b[1;33m<\u001b[0m \u001b[1;36m70\u001b[0m \u001b[1;32melse\u001b[0m \u001b[0mj\u001b[0m \u001b[1;33m-\u001b[0m \u001b[1;36m180\u001b[0m \u001b[1;32mif\u001b[0m \u001b[0mj\u001b[0m \u001b[1;33m>\u001b[0m \u001b[1;36m180\u001b[0m \u001b[1;32melse\u001b[0m \u001b[1;36m0\u001b[0m \u001b[1;32mfor\u001b[0m \u001b[0mj\u001b[0m \u001b[1;32min\u001b[0m \u001b[0mcgmMO\u001b[0m\u001b[1;33m[\u001b[0m\u001b[1;34m'{}_y'\u001b[0m\u001b[1;33m.\u001b[0m\u001b[0mformat\u001b[0m\u001b[1;33m(\u001b[0m\u001b[0mi\u001b[0m\u001b[1;33m)\u001b[0m\u001b[1;33m]\u001b[0m\u001b[1;33m]\u001b[0m\u001b[1;33m,\u001b[0m \u001b[1;32mTrue\u001b[0m\u001b[1;33m)\u001b[0m\u001b[1;33m\u001b[0m\u001b[1;33m\u001b[0m\u001b[0m\n\u001b[0m\u001b[0;32m      6\u001b[0m             \u001b[0mnum\u001b[0m \u001b[1;33m+=\u001b[0m \u001b[1;36m3\u001b[0m\u001b[1;33m\u001b[0m\u001b[1;33m\u001b[0m\u001b[0m\n\u001b[0;32m      7\u001b[0m         \u001b[1;32melse\u001b[0m\u001b[1;33m:\u001b[0m\u001b[1;33m\u001b[0m\u001b[1;33m\u001b[0m\u001b[0m\n",
      "\u001b[1;32mc:\\users\\infernal\\appdata\\local\\programs\\python\\python37-32\\lib\\site-packages\\pandas\\core\\frame.py\u001b[0m in \u001b[0;36m__getitem__\u001b[1;34m(self, key)\u001b[0m\n\u001b[0;32m   2686\u001b[0m             \u001b[1;32mreturn\u001b[0m \u001b[0mself\u001b[0m\u001b[1;33m.\u001b[0m\u001b[0m_getitem_multilevel\u001b[0m\u001b[1;33m(\u001b[0m\u001b[0mkey\u001b[0m\u001b[1;33m)\u001b[0m\u001b[1;33m\u001b[0m\u001b[1;33m\u001b[0m\u001b[0m\n\u001b[0;32m   2687\u001b[0m         \u001b[1;32melse\u001b[0m\u001b[1;33m:\u001b[0m\u001b[1;33m\u001b[0m\u001b[1;33m\u001b[0m\u001b[0m\n\u001b[1;32m-> 2688\u001b[1;33m             \u001b[1;32mreturn\u001b[0m \u001b[0mself\u001b[0m\u001b[1;33m.\u001b[0m\u001b[0m_getitem_column\u001b[0m\u001b[1;33m(\u001b[0m\u001b[0mkey\u001b[0m\u001b[1;33m)\u001b[0m\u001b[1;33m\u001b[0m\u001b[1;33m\u001b[0m\u001b[0m\n\u001b[0m\u001b[0;32m   2689\u001b[0m \u001b[1;33m\u001b[0m\u001b[0m\n\u001b[0;32m   2690\u001b[0m     \u001b[1;32mdef\u001b[0m \u001b[0m_getitem_column\u001b[0m\u001b[1;33m(\u001b[0m\u001b[0mself\u001b[0m\u001b[1;33m,\u001b[0m \u001b[0mkey\u001b[0m\u001b[1;33m)\u001b[0m\u001b[1;33m:\u001b[0m\u001b[1;33m\u001b[0m\u001b[1;33m\u001b[0m\u001b[0m\n",
      "\u001b[1;32mc:\\users\\infernal\\appdata\\local\\programs\\python\\python37-32\\lib\\site-packages\\pandas\\core\\frame.py\u001b[0m in \u001b[0;36m_getitem_column\u001b[1;34m(self, key)\u001b[0m\n\u001b[0;32m   2698\u001b[0m         \u001b[0mresult\u001b[0m \u001b[1;33m=\u001b[0m \u001b[0mself\u001b[0m\u001b[1;33m.\u001b[0m\u001b[0m_constructor\u001b[0m\u001b[1;33m(\u001b[0m\u001b[0mself\u001b[0m\u001b[1;33m.\u001b[0m\u001b[0m_data\u001b[0m\u001b[1;33m.\u001b[0m\u001b[0mget\u001b[0m\u001b[1;33m(\u001b[0m\u001b[0mkey\u001b[0m\u001b[1;33m)\u001b[0m\u001b[1;33m)\u001b[0m\u001b[1;33m\u001b[0m\u001b[1;33m\u001b[0m\u001b[0m\n\u001b[0;32m   2699\u001b[0m         \u001b[1;32mif\u001b[0m \u001b[0mresult\u001b[0m\u001b[1;33m.\u001b[0m\u001b[0mcolumns\u001b[0m\u001b[1;33m.\u001b[0m\u001b[0mis_unique\u001b[0m\u001b[1;33m:\u001b[0m\u001b[1;33m\u001b[0m\u001b[1;33m\u001b[0m\u001b[0m\n\u001b[1;32m-> 2700\u001b[1;33m             \u001b[0mresult\u001b[0m \u001b[1;33m=\u001b[0m \u001b[0mresult\u001b[0m\u001b[1;33m[\u001b[0m\u001b[0mkey\u001b[0m\u001b[1;33m]\u001b[0m\u001b[1;33m\u001b[0m\u001b[1;33m\u001b[0m\u001b[0m\n\u001b[0m\u001b[0;32m   2701\u001b[0m \u001b[1;33m\u001b[0m\u001b[0m\n\u001b[0;32m   2702\u001b[0m         \u001b[1;32mreturn\u001b[0m \u001b[0mresult\u001b[0m\u001b[1;33m\u001b[0m\u001b[1;33m\u001b[0m\u001b[0m\n",
      "\u001b[1;32mc:\\users\\infernal\\appdata\\local\\programs\\python\\python37-32\\lib\\site-packages\\pandas\\core\\frame.py\u001b[0m in \u001b[0;36m__getitem__\u001b[1;34m(self, key)\u001b[0m\n\u001b[0;32m   2686\u001b[0m             \u001b[1;32mreturn\u001b[0m \u001b[0mself\u001b[0m\u001b[1;33m.\u001b[0m\u001b[0m_getitem_multilevel\u001b[0m\u001b[1;33m(\u001b[0m\u001b[0mkey\u001b[0m\u001b[1;33m)\u001b[0m\u001b[1;33m\u001b[0m\u001b[1;33m\u001b[0m\u001b[0m\n\u001b[0;32m   2687\u001b[0m         \u001b[1;32melse\u001b[0m\u001b[1;33m:\u001b[0m\u001b[1;33m\u001b[0m\u001b[1;33m\u001b[0m\u001b[0m\n\u001b[1;32m-> 2688\u001b[1;33m             \u001b[1;32mreturn\u001b[0m \u001b[0mself\u001b[0m\u001b[1;33m.\u001b[0m\u001b[0m_getitem_column\u001b[0m\u001b[1;33m(\u001b[0m\u001b[0mkey\u001b[0m\u001b[1;33m)\u001b[0m\u001b[1;33m\u001b[0m\u001b[1;33m\u001b[0m\u001b[0m\n\u001b[0m\u001b[0;32m   2689\u001b[0m \u001b[1;33m\u001b[0m\u001b[0m\n\u001b[0;32m   2690\u001b[0m     \u001b[1;32mdef\u001b[0m \u001b[0m_getitem_column\u001b[0m\u001b[1;33m(\u001b[0m\u001b[0mself\u001b[0m\u001b[1;33m,\u001b[0m \u001b[0mkey\u001b[0m\u001b[1;33m)\u001b[0m\u001b[1;33m:\u001b[0m\u001b[1;33m\u001b[0m\u001b[1;33m\u001b[0m\u001b[0m\n",
      "\u001b[1;32mc:\\users\\infernal\\appdata\\local\\programs\\python\\python37-32\\lib\\site-packages\\pandas\\core\\frame.py\u001b[0m in \u001b[0;36m_getitem_column\u001b[1;34m(self, key)\u001b[0m\n\u001b[0;32m   2693\u001b[0m         \u001b[1;31m# get column\u001b[0m\u001b[1;33m\u001b[0m\u001b[1;33m\u001b[0m\u001b[1;33m\u001b[0m\u001b[0m\n\u001b[0;32m   2694\u001b[0m         \u001b[1;32mif\u001b[0m \u001b[0mself\u001b[0m\u001b[1;33m.\u001b[0m\u001b[0mcolumns\u001b[0m\u001b[1;33m.\u001b[0m\u001b[0mis_unique\u001b[0m\u001b[1;33m:\u001b[0m\u001b[1;33m\u001b[0m\u001b[1;33m\u001b[0m\u001b[0m\n\u001b[1;32m-> 2695\u001b[1;33m             \u001b[1;32mreturn\u001b[0m \u001b[0mself\u001b[0m\u001b[1;33m.\u001b[0m\u001b[0m_get_item_cache\u001b[0m\u001b[1;33m(\u001b[0m\u001b[0mkey\u001b[0m\u001b[1;33m)\u001b[0m\u001b[1;33m\u001b[0m\u001b[1;33m\u001b[0m\u001b[0m\n\u001b[0m\u001b[0;32m   2696\u001b[0m \u001b[1;33m\u001b[0m\u001b[0m\n\u001b[0;32m   2697\u001b[0m         \u001b[1;31m# duplicate columns & possible reduce dimensionality\u001b[0m\u001b[1;33m\u001b[0m\u001b[1;33m\u001b[0m\u001b[1;33m\u001b[0m\u001b[0m\n",
      "\u001b[1;32mc:\\users\\infernal\\appdata\\local\\programs\\python\\python37-32\\lib\\site-packages\\pandas\\core\\generic.py\u001b[0m in \u001b[0;36m_get_item_cache\u001b[1;34m(self, item)\u001b[0m\n\u001b[0;32m   2487\u001b[0m         \u001b[0mres\u001b[0m \u001b[1;33m=\u001b[0m \u001b[0mcache\u001b[0m\u001b[1;33m.\u001b[0m\u001b[0mget\u001b[0m\u001b[1;33m(\u001b[0m\u001b[0mitem\u001b[0m\u001b[1;33m)\u001b[0m\u001b[1;33m\u001b[0m\u001b[1;33m\u001b[0m\u001b[0m\n\u001b[0;32m   2488\u001b[0m         \u001b[1;32mif\u001b[0m \u001b[0mres\u001b[0m \u001b[1;32mis\u001b[0m \u001b[1;32mNone\u001b[0m\u001b[1;33m:\u001b[0m\u001b[1;33m\u001b[0m\u001b[1;33m\u001b[0m\u001b[0m\n\u001b[1;32m-> 2489\u001b[1;33m             \u001b[0mvalues\u001b[0m \u001b[1;33m=\u001b[0m \u001b[0mself\u001b[0m\u001b[1;33m.\u001b[0m\u001b[0m_data\u001b[0m\u001b[1;33m.\u001b[0m\u001b[0mget\u001b[0m\u001b[1;33m(\u001b[0m\u001b[0mitem\u001b[0m\u001b[1;33m)\u001b[0m\u001b[1;33m\u001b[0m\u001b[1;33m\u001b[0m\u001b[0m\n\u001b[0m\u001b[0;32m   2490\u001b[0m             \u001b[0mres\u001b[0m \u001b[1;33m=\u001b[0m \u001b[0mself\u001b[0m\u001b[1;33m.\u001b[0m\u001b[0m_box_item_values\u001b[0m\u001b[1;33m(\u001b[0m\u001b[0mitem\u001b[0m\u001b[1;33m,\u001b[0m \u001b[0mvalues\u001b[0m\u001b[1;33m)\u001b[0m\u001b[1;33m\u001b[0m\u001b[1;33m\u001b[0m\u001b[0m\n\u001b[0;32m   2491\u001b[0m             \u001b[0mcache\u001b[0m\u001b[1;33m[\u001b[0m\u001b[0mitem\u001b[0m\u001b[1;33m]\u001b[0m \u001b[1;33m=\u001b[0m \u001b[0mres\u001b[0m\u001b[1;33m\u001b[0m\u001b[1;33m\u001b[0m\u001b[0m\n",
      "\u001b[1;32mc:\\users\\infernal\\appdata\\local\\programs\\python\\python37-32\\lib\\site-packages\\pandas\\core\\internals.py\u001b[0m in \u001b[0;36mget\u001b[1;34m(self, item, fastpath)\u001b[0m\n\u001b[0;32m   4113\u001b[0m \u001b[1;33m\u001b[0m\u001b[0m\n\u001b[0;32m   4114\u001b[0m             \u001b[1;32mif\u001b[0m \u001b[1;32mnot\u001b[0m \u001b[0misna\u001b[0m\u001b[1;33m(\u001b[0m\u001b[0mitem\u001b[0m\u001b[1;33m)\u001b[0m\u001b[1;33m:\u001b[0m\u001b[1;33m\u001b[0m\u001b[1;33m\u001b[0m\u001b[0m\n\u001b[1;32m-> 4115\u001b[1;33m                 \u001b[0mloc\u001b[0m \u001b[1;33m=\u001b[0m \u001b[0mself\u001b[0m\u001b[1;33m.\u001b[0m\u001b[0mitems\u001b[0m\u001b[1;33m.\u001b[0m\u001b[0mget_loc\u001b[0m\u001b[1;33m(\u001b[0m\u001b[0mitem\u001b[0m\u001b[1;33m)\u001b[0m\u001b[1;33m\u001b[0m\u001b[1;33m\u001b[0m\u001b[0m\n\u001b[0m\u001b[0;32m   4116\u001b[0m             \u001b[1;32melse\u001b[0m\u001b[1;33m:\u001b[0m\u001b[1;33m\u001b[0m\u001b[1;33m\u001b[0m\u001b[0m\n\u001b[0;32m   4117\u001b[0m                 \u001b[0mindexer\u001b[0m \u001b[1;33m=\u001b[0m \u001b[0mnp\u001b[0m\u001b[1;33m.\u001b[0m\u001b[0marange\u001b[0m\u001b[1;33m(\u001b[0m\u001b[0mlen\u001b[0m\u001b[1;33m(\u001b[0m\u001b[0mself\u001b[0m\u001b[1;33m.\u001b[0m\u001b[0mitems\u001b[0m\u001b[1;33m)\u001b[0m\u001b[1;33m)\u001b[0m\u001b[1;33m[\u001b[0m\u001b[0misna\u001b[0m\u001b[1;33m(\u001b[0m\u001b[0mself\u001b[0m\u001b[1;33m.\u001b[0m\u001b[0mitems\u001b[0m\u001b[1;33m)\u001b[0m\u001b[1;33m]\u001b[0m\u001b[1;33m\u001b[0m\u001b[1;33m\u001b[0m\u001b[0m\n",
      "\u001b[1;32mc:\\users\\infernal\\appdata\\local\\programs\\python\\python37-32\\lib\\site-packages\\pandas\\core\\indexes\\base.py\u001b[0m in \u001b[0;36mget_loc\u001b[1;34m(self, key, method, tolerance)\u001b[0m\n\u001b[0;32m   3078\u001b[0m                 \u001b[1;32mreturn\u001b[0m \u001b[0mself\u001b[0m\u001b[1;33m.\u001b[0m\u001b[0m_engine\u001b[0m\u001b[1;33m.\u001b[0m\u001b[0mget_loc\u001b[0m\u001b[1;33m(\u001b[0m\u001b[0mkey\u001b[0m\u001b[1;33m)\u001b[0m\u001b[1;33m\u001b[0m\u001b[1;33m\u001b[0m\u001b[0m\n\u001b[0;32m   3079\u001b[0m             \u001b[1;32mexcept\u001b[0m \u001b[0mKeyError\u001b[0m\u001b[1;33m:\u001b[0m\u001b[1;33m\u001b[0m\u001b[1;33m\u001b[0m\u001b[0m\n\u001b[1;32m-> 3080\u001b[1;33m                 \u001b[1;32mreturn\u001b[0m \u001b[0mself\u001b[0m\u001b[1;33m.\u001b[0m\u001b[0m_engine\u001b[0m\u001b[1;33m.\u001b[0m\u001b[0mget_loc\u001b[0m\u001b[1;33m(\u001b[0m\u001b[0mself\u001b[0m\u001b[1;33m.\u001b[0m\u001b[0m_maybe_cast_indexer\u001b[0m\u001b[1;33m(\u001b[0m\u001b[0mkey\u001b[0m\u001b[1;33m)\u001b[0m\u001b[1;33m)\u001b[0m\u001b[1;33m\u001b[0m\u001b[1;33m\u001b[0m\u001b[0m\n\u001b[0m\u001b[0;32m   3081\u001b[0m \u001b[1;33m\u001b[0m\u001b[0m\n\u001b[0;32m   3082\u001b[0m         \u001b[0mindexer\u001b[0m \u001b[1;33m=\u001b[0m \u001b[0mself\u001b[0m\u001b[1;33m.\u001b[0m\u001b[0mget_indexer\u001b[0m\u001b[1;33m(\u001b[0m\u001b[1;33m[\u001b[0m\u001b[0mkey\u001b[0m\u001b[1;33m]\u001b[0m\u001b[1;33m,\u001b[0m \u001b[0mmethod\u001b[0m\u001b[1;33m=\u001b[0m\u001b[0mmethod\u001b[0m\u001b[1;33m,\u001b[0m \u001b[0mtolerance\u001b[0m\u001b[1;33m=\u001b[0m\u001b[0mtolerance\u001b[0m\u001b[1;33m)\u001b[0m\u001b[1;33m\u001b[0m\u001b[1;33m\u001b[0m\u001b[0m\n",
      "\u001b[1;32mpandas\\_libs\\index.pyx\u001b[0m in \u001b[0;36mpandas._libs.index.IndexEngine.get_loc\u001b[1;34m()\u001b[0m\n",
      "\u001b[1;32mpandas\\_libs\\index.pyx\u001b[0m in \u001b[0;36mpandas._libs.index.IndexEngine.get_loc\u001b[1;34m()\u001b[0m\n",
      "\u001b[1;32mpandas\\_libs\\hashtable_class_helper.pxi\u001b[0m in \u001b[0;36mpandas._libs.hashtable.PyObjectHashTable.get_item\u001b[1;34m()\u001b[0m\n",
      "\u001b[1;32mpandas\\_libs\\hashtable_class_helper.pxi\u001b[0m in \u001b[0;36mpandas._libs.hashtable.PyObjectHashTable.get_item\u001b[1;34m()\u001b[0m\n",
      "\u001b[1;31mKeyError\u001b[0m: '33_y'"
     ]
    }
   ],
   "source": [
    "def addOutofRange(cgmMO, fileIdx):\n",
    "    num = 2\n",
    "    for i in range(len(cgmMO.columns) // 2):\n",
    "        if not checkNaN(skipCols,fileIdx,i):\n",
    "            cgmMO.insert(num, '{}_out_of_range'.format(i), [70 - j if j < 70 else j - 180 if j > 180 else 0 for j in cgmMO['{}_y'.format(i)]], True)\n",
    "            num += 3\n",
    "\n",
    "def delOutOfRange(cgmMO, fileIdx):\n",
    "    out = []\n",
    "    for i in range(len(cgmMO.columns) // 3):\n",
    "        if not checkNaN(skipCols,fileIdx,i):\n",
    "            out.append(round(sum(cgmMO['{}_out_of_range'.format(i)]) / len(cgmMO['{}_out_of_range'.format(i)]), 2))\n",
    "            del cgmMO['{}_out_of_range'.format(i)]\n",
    "    return out\n",
    "\n",
    "\n",
    "for i in range(numFiles):\n",
    "    addOutofRange(cgm_merged[i],i)"
   ]
  },
  {
   "cell_type": "code",
   "execution_count": 106,
   "metadata": {},
   "outputs": [],
   "source": [
    "def countOutOfRange(cgmMO,fileIdx):\n",
    "    posCount, negCount = 0, 0\n",
    "    outOfRange = []\n",
    "    for i in range(len(cgmMO.columns) // 3):\n",
    "        if not checkNaN(skipCols,fileIdx,i):\n",
    "            for j in cgmMO['{}_out_of_range'.format(i)]:\n",
    "                if j > 0:\n",
    "                    posCount += 1\n",
    "                if j < 0:\n",
    "                    negCount += 1\n",
    "        #     outOfRange.append([posCount,negCount])\n",
    "            outOfRange.append(posCount)\n",
    "            posCount, negCount = 0, 0\n",
    "    return outOfRange\n",
    "\n",
    "\n",
    "outOfRangeList = []\n",
    "for i in range(numFiles):\n",
    "    outOfRangeList.append([countOutOfRange(cgm_merged[i],i), delOutOfRange(cgm_merged[i],i)])"
   ]
  },
  {
   "cell_type": "code",
   "execution_count": 123,
   "metadata": {},
   "outputs": [],
   "source": [
    "timeRange = [\n",
    "    [\n",
    "        '{1} - {0}'.format(cgm_merged[idx]['{}_x'.format(i)][0], cgm_merged[idx]['{}_x'.format(i)][-1]) for i in range(len(outOfRangeList[idx][1]))\n",
    "    ] for idx in range(numFiles)\n",
    "]\n",
    "feature_matrix = [pd.DataFrame({'timeRange': timeRange[i], '#OutOfRange': outOfRangeList[i][0], 'meanOutOfRange':outOfRangeList[i][1]}) for i in range(numFiles)]"
   ]
  },
  {
   "cell_type": "code",
   "execution_count": 128,
   "metadata": {},
   "outputs": [
    {
     "name": "stdout",
     "output_type": "stream",
     "text": [
      "31\n",
      "31\n",
      "31\n",
      "42\n",
      "31\n"
     ]
    }
   ],
   "source": [
    "for i in range(numFiles):\n",
    "    print(len(cgm_merged[i]))"
   ]
  },
  {
   "cell_type": "code",
   "execution_count": 119,
   "metadata": {},
   "outputs": [],
   "source": [
    "def mk_test(DF,asdsa, alpha=0.3):\n",
    "    print(asdsa)\n",
    "    \"\"\"\n",
    "    Input:\n",
    "        DF:   a vector of data\n",
    "        alpha: significance level (0.05 default)\n",
    "\n",
    "    Output:\n",
    "        trend: tells the trend (increasing, decreasing or no trend)\n",
    "        h: True (if trend is present) or False (if trend is absence)\n",
    "        p: p value of the significance test\n",
    "        z: normalized test statistics\n",
    "\n",
    "    Examples\n",
    "    --------\n",
    "      >>> DF = np.random.rand(100)\n",
    "      >>> trend,h,p,z = mk_test(DF,0.05)\n",
    "    \"\"\"\n",
    "\n",
    "    n = len(DF)\n",
    "\n",
    "    # calculate S\n",
    "    s = 0\n",
    "    for k in range(n - 1):\n",
    "        for j in range(k + 1, n):\n",
    "            s += np.sign(DF[j] - DF[k])\n",
    "\n",
    "    # calculate the unique data\n",
    "    unique_x = np.unique(DF)\n",
    "    g = len(unique_x)\n",
    "\n",
    "    # calculate the var(s)\n",
    "    if n == g:  # there is no tie\n",
    "        var_s = (n * (n - 1) * (2 * n + 5)) / 18\n",
    "    else:  # there are some ties in data\n",
    "        tp = np.zeros(unique_x.shape)\n",
    "        for i in range(len(unique_x)):\n",
    "            tp[i] = np.sum(DF == unique_x[i])\n",
    "        var_s = (n * (n - 1) * (2 * n + 5) - np.sum(tp * (tp - 1) * (2 * tp + 5))) / 18\n",
    "\n",
    "    if s > 0:\n",
    "        z = (s - 1) / np.sqrt(var_s)\n",
    "    elif s < 0:\n",
    "        z = (s + 1) / np.sqrt(var_s)\n",
    "    else:  # s == 0:\n",
    "        z = 0\n",
    "\n",
    "    # calculate the p_value\n",
    "    p = 2 * (1 - norm.cdf(abs(z)))  # two tail test\n",
    "    h = abs(z) > norm.ppf(1 - alpha / 2)\n",
    "\n",
    "    trend = 'decreasing' if z < 0 and h else 'increasing' if z > 0 and h else 'no trend'\n",
    "\n",
    "    return trend, h, p, z"
   ]
  },
  {
   "cell_type": "code",
   "execution_count": 277,
   "metadata": {},
   "outputs": [],
   "source": [
    "# for j in range(numFiles):\n",
    "#     for i in range(len(cgm_merged[j].columns) // 2):\n",
    "#         col = str(i) + '_y'\n",
    "#         print(\"Meal #{} :{}\".format(i, mk_test(cgm_merged[j][col].values.ravel())))"
   ]
  },
  {
   "cell_type": "code",
   "execution_count": 109,
   "metadata": {
    "scrolled": true
   },
   "outputs": [
    {
     "name": "stderr",
     "output_type": "stream",
     "text": [
      "c:\\users\\infernal\\appdata\\local\\programs\\python\\python37-32\\lib\\site-packages\\ipykernel_launcher.py:25: RuntimeWarning: invalid value encountered in sign\n"
     ]
    },
    {
     "ename": "ValueError",
     "evalue": "Length of values does not match length of index",
     "output_type": "error",
     "traceback": [
      "\u001b[1;31m---------------------------------------------------------------------------\u001b[0m",
      "\u001b[1;31mValueError\u001b[0m                                Traceback (most recent call last)",
      "\u001b[1;32m<ipython-input-109-f30957f3f744>\u001b[0m in \u001b[0;36m<module>\u001b[1;34m\u001b[0m\n\u001b[0;32m      1\u001b[0m \u001b[1;32mfor\u001b[0m \u001b[0midx\u001b[0m \u001b[1;32min\u001b[0m \u001b[0mrange\u001b[0m\u001b[1;33m(\u001b[0m\u001b[0mnumFiles\u001b[0m\u001b[1;33m)\u001b[0m\u001b[1;33m:\u001b[0m\u001b[1;33m\u001b[0m\u001b[1;33m\u001b[0m\u001b[0m\n\u001b[0;32m      2\u001b[0m     \u001b[1;31m# Insert mk_testt_trend\u001b[0m\u001b[1;33m\u001b[0m\u001b[1;33m\u001b[0m\u001b[1;33m\u001b[0m\u001b[0m\n\u001b[1;32m----> 3\u001b[1;33m     \u001b[0mfeature_matrix\u001b[0m\u001b[1;33m[\u001b[0m\u001b[0midx\u001b[0m\u001b[1;33m]\u001b[0m\u001b[1;33m.\u001b[0m\u001b[0minsert\u001b[0m\u001b[1;33m(\u001b[0m\u001b[1;36m3\u001b[0m\u001b[1;33m,\u001b[0m \u001b[1;34m\"mk_test_trend\"\u001b[0m\u001b[1;33m,\u001b[0m \u001b[1;33m[\u001b[0m\u001b[0mmk_test\u001b[0m\u001b[1;33m(\u001b[0m\u001b[0mcgm_merged\u001b[0m\u001b[1;33m[\u001b[0m\u001b[0midx\u001b[0m\u001b[1;33m]\u001b[0m\u001b[1;33m[\u001b[0m\u001b[0mstr\u001b[0m\u001b[1;33m(\u001b[0m\u001b[0mi\u001b[0m\u001b[1;33m)\u001b[0m \u001b[1;33m+\u001b[0m \u001b[1;34m'_y'\u001b[0m\u001b[1;33m]\u001b[0m\u001b[1;33m.\u001b[0m\u001b[0mvalues\u001b[0m\u001b[1;33m.\u001b[0m\u001b[0mravel\u001b[0m\u001b[1;33m(\u001b[0m\u001b[1;33m)\u001b[0m\u001b[1;33m)\u001b[0m\u001b[1;33m[\u001b[0m\u001b[1;36m0\u001b[0m\u001b[1;33m]\u001b[0m \u001b[1;32mfor\u001b[0m \u001b[0mi\u001b[0m \u001b[1;32min\u001b[0m \u001b[0mrange\u001b[0m\u001b[1;33m(\u001b[0m\u001b[0mlen\u001b[0m\u001b[1;33m(\u001b[0m\u001b[0mcgm_merged\u001b[0m\u001b[1;33m[\u001b[0m\u001b[0midx\u001b[0m\u001b[1;33m]\u001b[0m\u001b[1;33m.\u001b[0m\u001b[0mcolumns\u001b[0m\u001b[1;33m)\u001b[0m \u001b[1;33m//\u001b[0m \u001b[1;36m2\u001b[0m\u001b[1;33m)\u001b[0m \u001b[1;32mif\u001b[0m \u001b[1;32mnot\u001b[0m \u001b[0mcheckNaN\u001b[0m\u001b[1;33m(\u001b[0m\u001b[0mskipCols\u001b[0m\u001b[1;33m,\u001b[0m\u001b[0midx\u001b[0m\u001b[1;33m,\u001b[0m\u001b[0mi\u001b[0m\u001b[1;33m)\u001b[0m\u001b[1;33m]\u001b[0m\u001b[1;33m)\u001b[0m\u001b[1;33m\u001b[0m\u001b[1;33m\u001b[0m\u001b[0m\n\u001b[0m\u001b[0;32m      4\u001b[0m \u001b[1;33m\u001b[0m\u001b[0m\n\u001b[0;32m      5\u001b[0m     \u001b[1;31m# Insert mk_test_p_value: p value of the significance test\u001b[0m\u001b[1;33m\u001b[0m\u001b[1;33m\u001b[0m\u001b[1;33m\u001b[0m\u001b[0m\n",
      "\u001b[1;32mc:\\users\\infernal\\appdata\\local\\programs\\python\\python37-32\\lib\\site-packages\\pandas\\core\\frame.py\u001b[0m in \u001b[0;36minsert\u001b[1;34m(self, loc, column, value, allow_duplicates)\u001b[0m\n\u001b[0;32m   3218\u001b[0m         \"\"\"\n\u001b[0;32m   3219\u001b[0m         \u001b[0mself\u001b[0m\u001b[1;33m.\u001b[0m\u001b[0m_ensure_valid_index\u001b[0m\u001b[1;33m(\u001b[0m\u001b[0mvalue\u001b[0m\u001b[1;33m)\u001b[0m\u001b[1;33m\u001b[0m\u001b[1;33m\u001b[0m\u001b[0m\n\u001b[1;32m-> 3220\u001b[1;33m         \u001b[0mvalue\u001b[0m \u001b[1;33m=\u001b[0m \u001b[0mself\u001b[0m\u001b[1;33m.\u001b[0m\u001b[0m_sanitize_column\u001b[0m\u001b[1;33m(\u001b[0m\u001b[0mcolumn\u001b[0m\u001b[1;33m,\u001b[0m \u001b[0mvalue\u001b[0m\u001b[1;33m,\u001b[0m \u001b[0mbroadcast\u001b[0m\u001b[1;33m=\u001b[0m\u001b[1;32mFalse\u001b[0m\u001b[1;33m)\u001b[0m\u001b[1;33m\u001b[0m\u001b[1;33m\u001b[0m\u001b[0m\n\u001b[0m\u001b[0;32m   3221\u001b[0m         self._data.insert(loc, column, value,\n\u001b[0;32m   3222\u001b[0m                           allow_duplicates=allow_duplicates)\n",
      "\u001b[1;32mc:\\users\\infernal\\appdata\\local\\programs\\python\\python37-32\\lib\\site-packages\\pandas\\core\\frame.py\u001b[0m in \u001b[0;36m_sanitize_column\u001b[1;34m(self, key, value, broadcast)\u001b[0m\n\u001b[0;32m   3389\u001b[0m \u001b[1;33m\u001b[0m\u001b[0m\n\u001b[0;32m   3390\u001b[0m             \u001b[1;31m# turn me into an ndarray\u001b[0m\u001b[1;33m\u001b[0m\u001b[1;33m\u001b[0m\u001b[1;33m\u001b[0m\u001b[0m\n\u001b[1;32m-> 3391\u001b[1;33m             \u001b[0mvalue\u001b[0m \u001b[1;33m=\u001b[0m \u001b[0m_sanitize_index\u001b[0m\u001b[1;33m(\u001b[0m\u001b[0mvalue\u001b[0m\u001b[1;33m,\u001b[0m \u001b[0mself\u001b[0m\u001b[1;33m.\u001b[0m\u001b[0mindex\u001b[0m\u001b[1;33m,\u001b[0m \u001b[0mcopy\u001b[0m\u001b[1;33m=\u001b[0m\u001b[1;32mFalse\u001b[0m\u001b[1;33m)\u001b[0m\u001b[1;33m\u001b[0m\u001b[1;33m\u001b[0m\u001b[0m\n\u001b[0m\u001b[0;32m   3392\u001b[0m             \u001b[1;32mif\u001b[0m \u001b[1;32mnot\u001b[0m \u001b[0misinstance\u001b[0m\u001b[1;33m(\u001b[0m\u001b[0mvalue\u001b[0m\u001b[1;33m,\u001b[0m \u001b[1;33m(\u001b[0m\u001b[0mnp\u001b[0m\u001b[1;33m.\u001b[0m\u001b[0mndarray\u001b[0m\u001b[1;33m,\u001b[0m \u001b[0mIndex\u001b[0m\u001b[1;33m)\u001b[0m\u001b[1;33m)\u001b[0m\u001b[1;33m:\u001b[0m\u001b[1;33m\u001b[0m\u001b[1;33m\u001b[0m\u001b[0m\n\u001b[0;32m   3393\u001b[0m                 \u001b[1;32mif\u001b[0m \u001b[0misinstance\u001b[0m\u001b[1;33m(\u001b[0m\u001b[0mvalue\u001b[0m\u001b[1;33m,\u001b[0m \u001b[0mlist\u001b[0m\u001b[1;33m)\u001b[0m \u001b[1;32mand\u001b[0m \u001b[0mlen\u001b[0m\u001b[1;33m(\u001b[0m\u001b[0mvalue\u001b[0m\u001b[1;33m)\u001b[0m \u001b[1;33m>\u001b[0m \u001b[1;36m0\u001b[0m\u001b[1;33m:\u001b[0m\u001b[1;33m\u001b[0m\u001b[1;33m\u001b[0m\u001b[0m\n",
      "\u001b[1;32mc:\\users\\infernal\\appdata\\local\\programs\\python\\python37-32\\lib\\site-packages\\pandas\\core\\series.py\u001b[0m in \u001b[0;36m_sanitize_index\u001b[1;34m(data, index, copy)\u001b[0m\n\u001b[0;32m   3999\u001b[0m \u001b[1;33m\u001b[0m\u001b[0m\n\u001b[0;32m   4000\u001b[0m     \u001b[1;32mif\u001b[0m \u001b[0mlen\u001b[0m\u001b[1;33m(\u001b[0m\u001b[0mdata\u001b[0m\u001b[1;33m)\u001b[0m \u001b[1;33m!=\u001b[0m \u001b[0mlen\u001b[0m\u001b[1;33m(\u001b[0m\u001b[0mindex\u001b[0m\u001b[1;33m)\u001b[0m\u001b[1;33m:\u001b[0m\u001b[1;33m\u001b[0m\u001b[1;33m\u001b[0m\u001b[0m\n\u001b[1;32m-> 4001\u001b[1;33m         \u001b[1;32mraise\u001b[0m \u001b[0mValueError\u001b[0m\u001b[1;33m(\u001b[0m\u001b[1;34m'Length of values does not match length of '\u001b[0m \u001b[1;34m'index'\u001b[0m\u001b[1;33m)\u001b[0m\u001b[1;33m\u001b[0m\u001b[1;33m\u001b[0m\u001b[0m\n\u001b[0m\u001b[0;32m   4002\u001b[0m \u001b[1;33m\u001b[0m\u001b[0m\n\u001b[0;32m   4003\u001b[0m     \u001b[1;32mif\u001b[0m \u001b[0misinstance\u001b[0m\u001b[1;33m(\u001b[0m\u001b[0mdata\u001b[0m\u001b[1;33m,\u001b[0m \u001b[0mABCIndexClass\u001b[0m\u001b[1;33m)\u001b[0m \u001b[1;32mand\u001b[0m \u001b[1;32mnot\u001b[0m \u001b[0mcopy\u001b[0m\u001b[1;33m:\u001b[0m\u001b[1;33m\u001b[0m\u001b[1;33m\u001b[0m\u001b[0m\n",
      "\u001b[1;31mValueError\u001b[0m: Length of values does not match length of index"
     ]
    }
   ],
   "source": [
    "# for idx in range(numFiles):\n",
    "#     # Insert mk_testt_trend\n",
    "#     feature_matrix[idx].insert(3, \"mk_test_trend\", [mk_test(cgm_merged[idx][str(i) + '_y'].values.ravel())[0] for i in range(len(cgm_merged[idx].columns) // 2) if not checkNaN(skipCols,idx,i)])\n",
    "\n",
    "#     # Insert mk_test_p_value: p value of the significance test\n",
    "#     feature_matrix[idx].insert(4, \"mk_test_p_value\", [mk_test(cgm_merged[idx][str(i) + '_y'].values.ravel())[2] for i in range(len(cgm_merged[idx].columns) // 2) if not checkNaN(skipCols,idx,i)])\n",
    "\n",
    "#     # Insert mk_test_z_value: normalized test statistics\n",
    "#     feature_matrix[idx].insert(5, \"mk_test_z_value\", [mk_test(cgm_merged[idx][str(i) + '_y'].values.ravel())[3] for i in range(len(cgm_merged[idx].columns) // 2) if not checkNaN(skipCols,idx,i)])"
   ]
  },
  {
   "cell_type": "code",
   "execution_count": 122,
   "metadata": {},
   "outputs": [
    {
     "name": "stdout",
     "output_type": "stream",
     "text": [
      "33\n",
      "36\n",
      "72\n",
      "48\n",
      "16\n"
     ]
    }
   ],
   "source": [
    "# for idx in range(1,2):\n",
    "#     # Insert mk_testt_trend\n",
    "#     print([mk_test(cgm_merged[idx][str(i) + '_y'].values.ravel(),i)[0] for i in range(len(cgm_merged[idx].columns) // 2) if not checkNaN(skipCols,idx,i)])\n",
    "\n",
    "#     # Insert mk_test_p_value: p value of the significance test\n",
    "#     print([mk_test(cgm_merged[idx][str(i) + '_y'].values.ravel(),i)[2] for i in range(len(cgm_merged[idx].columns) // 2) if not checkNaN(skipCols,idx,i)])\n",
    "\n",
    "#     # Insert mk_test_z_value: normalized test statistics\n",
    "#     print([mk_test(cgm_merged[idx][str(i) + '_y'].values.ravel(),i)[3] for i in range(len(cgm_merged[idx].columns) // 2) if not checkNaN(skipCols,idx,i)])\n",
    " \n",
    "for i in range(numFiles):\n",
    "    print(len(feature_matrix[i]))"
   ]
  },
  {
   "cell_type": "code",
   "execution_count": 82,
   "metadata": {},
   "outputs": [],
   "source": [
    "def varFFT(CGMO,fileIdx):\n",
    "    finalList = []\n",
    "    _, l = CGMO.shape\n",
    "    l = int(l/2)\n",
    "    for i in range(l):\n",
    "        if not checkNaN(skipCols,fileIdx,l):\n",
    "            x, y = str(i) + \"_x\", str(i) + \"_y\"\n",
    "            Gval = CGMO[y]\n",
    "            yf = fft(Gval)\n",
    "            finalList.append(np.var(yf))\n",
    "    return finalList\n",
    "\n",
    "\n",
    "varFFTList = []\n",
    "for i in range(numFiles):\n",
    "    varFFTList.append(varFFT(cgm_merged[i], i))"
   ]
  },
  {
   "cell_type": "code",
   "execution_count": 86,
   "metadata": {},
   "outputs": [
    {
     "name": "stdout",
     "output_type": "stream",
     "text": [
      "33 33\n",
      "38 36\n",
      "75 72\n",
      "52 48\n",
      "18 16\n"
     ]
    }
   ],
   "source": [
    "for i in range(numFiles):\n",
    "    print(len(varFFTList[i]),len(feature_matrix[i]))\n"
   ]
  },
  {
   "cell_type": "code",
   "execution_count": 280,
   "metadata": {},
   "outputs": [],
   "source": [
    "for idx in range(numFiles):\n",
    "    feature_matrix[idx].insert(6, \"something_FFT\", varFFTList[idx])"
   ]
  },
  {
   "cell_type": "code",
   "execution_count": 281,
   "metadata": {},
   "outputs": [],
   "source": [
    "def MeanRange(CGMMR):\n",
    "    rangeList = []\n",
    "    finalList = []\n",
    "    for i in range(len(CGMMR.columns) // 2):\n",
    "        maxValue = CGMMR[str(i) + \"_y\"].max()\n",
    "        minValue = CGMMR[str(i) + \"_y\"].min()\n",
    "        rangeList.append(maxValue - minValue)\n",
    "    \n",
    "    averageList = sum(rangeList) / len(rangeList)\n",
    "    for i in range(len(rangeList)):\n",
    "        finalList.append(round(rangeList[i] - averageList,2))\n",
    "    \n",
    "    return finalList\n",
    "\n",
    "\n",
    "MeanRangeList = []\n",
    "for i in range(numFiles):\n",
    "    MeanRangeList.append(MeanRange(cgm_merged[i]))"
   ]
  },
  {
   "cell_type": "code",
   "execution_count": 282,
   "metadata": {},
   "outputs": [],
   "source": [
    "for idx in range(numFiles):\n",
    "    feature_matrix[idx].insert(7, \"MeanRange\", MeanRangeList[idx])"
   ]
  },
  {
   "cell_type": "code",
   "execution_count": 283,
   "metadata": {
    "scrolled": true
   },
   "outputs": [
    {
     "data": {
      "text/html": [
       "<div>\n",
       "<style scoped>\n",
       "    .dataframe tbody tr th:only-of-type {\n",
       "        vertical-align: middle;\n",
       "    }\n",
       "\n",
       "    .dataframe tbody tr th {\n",
       "        vertical-align: top;\n",
       "    }\n",
       "\n",
       "    .dataframe thead th {\n",
       "        text-align: right;\n",
       "    }\n",
       "</style>\n",
       "<table border=\"1\" class=\"dataframe\">\n",
       "  <thead>\n",
       "    <tr style=\"text-align: right;\">\n",
       "      <th></th>\n",
       "      <th>timeRange</th>\n",
       "      <th>#OutOfRange</th>\n",
       "      <th>meanOutOfRange</th>\n",
       "      <th>mk_test_trend</th>\n",
       "      <th>mk_test_p_value</th>\n",
       "      <th>mk_test_z_value</th>\n",
       "      <th>something_FFT</th>\n",
       "      <th>MeanRange</th>\n",
       "    </tr>\n",
       "  </thead>\n",
       "  <tbody>\n",
       "    <tr>\n",
       "      <th>0</th>\n",
       "      <td>2018-03-25 15:32:13 - 2018-03-25 13:07:14</td>\n",
       "      <td>18</td>\n",
       "      <td>28.77</td>\n",
       "      <td>increasing</td>\n",
       "      <td>1.023404e-12</td>\n",
       "      <td>7.127335</td>\n",
       "      <td>1139657.0</td>\n",
       "      <td>48.5</td>\n",
       "    </tr>\n",
       "    <tr>\n",
       "      <th>1</th>\n",
       "      <td>2018-03-21 15:31:13 - 2018-03-21 13:06:12</td>\n",
       "      <td>16</td>\n",
       "      <td>10.10</td>\n",
       "      <td>increasing</td>\n",
       "      <td>1.362595e-02</td>\n",
       "      <td>2.466976</td>\n",
       "      <td>1024039.0</td>\n",
       "      <td>-54.5</td>\n",
       "    </tr>\n",
       "    <tr>\n",
       "      <th>2</th>\n",
       "      <td>2018-03-19 16:30:59 - 2018-03-19 14:06:00</td>\n",
       "      <td>27</td>\n",
       "      <td>85.10</td>\n",
       "      <td>increasing</td>\n",
       "      <td>9.370282e-14</td>\n",
       "      <td>7.449454</td>\n",
       "      <td>2205621.0</td>\n",
       "      <td>23.5</td>\n",
       "    </tr>\n",
       "    <tr>\n",
       "      <th>3</th>\n",
       "      <td>2018-03-18 12:39:54 - 2018-03-18 10:14:55</td>\n",
       "      <td>9</td>\n",
       "      <td>45.10</td>\n",
       "      <td>no trend</td>\n",
       "      <td>1.000000e+00</td>\n",
       "      <td>0.000000</td>\n",
       "      <td>NaN</td>\n",
       "      <td>-35.5</td>\n",
       "    </tr>\n",
       "    <tr>\n",
       "      <th>4</th>\n",
       "      <td>2018-03-16 13:44:44 - 2018-03-16 11:19:43</td>\n",
       "      <td>31</td>\n",
       "      <td>87.00</td>\n",
       "      <td>increasing</td>\n",
       "      <td>6.883383e-15</td>\n",
       "      <td>7.786609</td>\n",
       "      <td>2254382.0</td>\n",
       "      <td>18.5</td>\n",
       "    </tr>\n",
       "    <tr>\n",
       "      <th>5</th>\n",
       "      <td>2018-03-14 14:24:29 - 2018-03-14 11:59:30</td>\n",
       "      <td>3</td>\n",
       "      <td>0.23</td>\n",
       "      <td>decreasing</td>\n",
       "      <td>2.682763e-06</td>\n",
       "      <td>-4.693724</td>\n",
       "      <td>573045.0</td>\n",
       "      <td>-40.5</td>\n",
       "    </tr>\n",
       "    <tr>\n",
       "      <th>6</th>\n",
       "      <td>2018-03-13 14:05:45 - 2018-03-13 11:40:46</td>\n",
       "      <td>16</td>\n",
       "      <td>46.45</td>\n",
       "      <td>increasing</td>\n",
       "      <td>3.053511e-07</td>\n",
       "      <td>5.120114</td>\n",
       "      <td>1475883.0</td>\n",
       "      <td>58.5</td>\n",
       "    </tr>\n",
       "    <tr>\n",
       "      <th>7</th>\n",
       "      <td>2018-03-09 13:39:21 - 2018-03-09 11:14:20</td>\n",
       "      <td>12</td>\n",
       "      <td>5.03</td>\n",
       "      <td>increasing</td>\n",
       "      <td>3.680856e-11</td>\n",
       "      <td>6.616386</td>\n",
       "      <td>768454.0</td>\n",
       "      <td>-34.5</td>\n",
       "    </tr>\n",
       "    <tr>\n",
       "      <th>8</th>\n",
       "      <td>2018-03-08 13:24:15 - 2018-03-08 10:59:16</td>\n",
       "      <td>19</td>\n",
       "      <td>57.90</td>\n",
       "      <td>increasing</td>\n",
       "      <td>1.239009e-13</td>\n",
       "      <td>7.412579</td>\n",
       "      <td>1609758.0</td>\n",
       "      <td>106.5</td>\n",
       "    </tr>\n",
       "    <tr>\n",
       "      <th>9</th>\n",
       "      <td>2018-03-06 14:00:59 - 2018-03-06 11:35:58</td>\n",
       "      <td>14</td>\n",
       "      <td>12.94</td>\n",
       "      <td>increasing</td>\n",
       "      <td>2.372809e-02</td>\n",
       "      <td>2.261504</td>\n",
       "      <td>802117.0</td>\n",
       "      <td>62.5</td>\n",
       "    </tr>\n",
       "    <tr>\n",
       "      <th>10</th>\n",
       "      <td>2018-03-03 13:40:41 - 2018-03-03 11:15:40</td>\n",
       "      <td>18</td>\n",
       "      <td>27.90</td>\n",
       "      <td>increasing</td>\n",
       "      <td>4.042417e-04</td>\n",
       "      <td>3.537299</td>\n",
       "      <td>1150129.0</td>\n",
       "      <td>12.5</td>\n",
       "    </tr>\n",
       "    <tr>\n",
       "      <th>11</th>\n",
       "      <td>2018-02-24 13:31:21 - 2018-02-24 11:01:20</td>\n",
       "      <td>3</td>\n",
       "      <td>0.23</td>\n",
       "      <td>increasing</td>\n",
       "      <td>5.463633e-06</td>\n",
       "      <td>4.546149</td>\n",
       "      <td>762423.0</td>\n",
       "      <td>-71.5</td>\n",
       "    </tr>\n",
       "    <tr>\n",
       "      <th>12</th>\n",
       "      <td>2017-12-18 13:33:04 - 2017-12-18 11:03:04</td>\n",
       "      <td>31</td>\n",
       "      <td>37.39</td>\n",
       "      <td>decreasing</td>\n",
       "      <td>7.353213e-05</td>\n",
       "      <td>-3.964558</td>\n",
       "      <td>1406034.0</td>\n",
       "      <td>-53.5</td>\n",
       "    </tr>\n",
       "    <tr>\n",
       "      <th>13</th>\n",
       "      <td>2017-12-07 16:10:23 - 2017-12-07 13:40:22</td>\n",
       "      <td>1</td>\n",
       "      <td>0.19</td>\n",
       "      <td>decreasing</td>\n",
       "      <td>9.504496e-05</td>\n",
       "      <td>-3.902905</td>\n",
       "      <td>646768.0</td>\n",
       "      <td>-83.5</td>\n",
       "    </tr>\n",
       "    <tr>\n",
       "      <th>14</th>\n",
       "      <td>2017-12-06 15:20:16 - 2017-12-06 12:55:16</td>\n",
       "      <td>20</td>\n",
       "      <td>25.55</td>\n",
       "      <td>increasing</td>\n",
       "      <td>6.829478e-05</td>\n",
       "      <td>3.982150</td>\n",
       "      <td>1195235.0</td>\n",
       "      <td>-47.5</td>\n",
       "    </tr>\n",
       "    <tr>\n",
       "      <th>15</th>\n",
       "      <td>2017-12-05 14:25:09 - 2017-12-05 12:00:10</td>\n",
       "      <td>16</td>\n",
       "      <td>49.52</td>\n",
       "      <td>increasing</td>\n",
       "      <td>1.043832e-12</td>\n",
       "      <td>7.124587</td>\n",
       "      <td>1433475.0</td>\n",
       "      <td>119.5</td>\n",
       "    </tr>\n",
       "    <tr>\n",
       "      <th>16</th>\n",
       "      <td>2017-12-04 14:05:04 - 2017-12-04 11:40:03</td>\n",
       "      <td>19</td>\n",
       "      <td>34.58</td>\n",
       "      <td>increasing</td>\n",
       "      <td>2.261948e-10</td>\n",
       "      <td>6.342412</td>\n",
       "      <td>1354065.0</td>\n",
       "      <td>-11.5</td>\n",
       "    </tr>\n",
       "    <tr>\n",
       "      <th>17</th>\n",
       "      <td>2017-12-02 13:59:51 - 2017-12-02 11:34:50</td>\n",
       "      <td>10</td>\n",
       "      <td>14.74</td>\n",
       "      <td>increasing</td>\n",
       "      <td>1.268998e-10</td>\n",
       "      <td>6.430841</td>\n",
       "      <td>994191.0</td>\n",
       "      <td>-17.5</td>\n",
       "    </tr>\n",
       "  </tbody>\n",
       "</table>\n",
       "</div>"
      ],
      "text/plain": [
       "                                    timeRange  #OutOfRange  meanOutOfRange  \\\n",
       "0   2018-03-25 15:32:13 - 2018-03-25 13:07:14           18           28.77   \n",
       "1   2018-03-21 15:31:13 - 2018-03-21 13:06:12           16           10.10   \n",
       "2   2018-03-19 16:30:59 - 2018-03-19 14:06:00           27           85.10   \n",
       "3   2018-03-18 12:39:54 - 2018-03-18 10:14:55            9           45.10   \n",
       "4   2018-03-16 13:44:44 - 2018-03-16 11:19:43           31           87.00   \n",
       "5   2018-03-14 14:24:29 - 2018-03-14 11:59:30            3            0.23   \n",
       "6   2018-03-13 14:05:45 - 2018-03-13 11:40:46           16           46.45   \n",
       "7   2018-03-09 13:39:21 - 2018-03-09 11:14:20           12            5.03   \n",
       "8   2018-03-08 13:24:15 - 2018-03-08 10:59:16           19           57.90   \n",
       "9   2018-03-06 14:00:59 - 2018-03-06 11:35:58           14           12.94   \n",
       "10  2018-03-03 13:40:41 - 2018-03-03 11:15:40           18           27.90   \n",
       "11  2018-02-24 13:31:21 - 2018-02-24 11:01:20            3            0.23   \n",
       "12  2017-12-18 13:33:04 - 2017-12-18 11:03:04           31           37.39   \n",
       "13  2017-12-07 16:10:23 - 2017-12-07 13:40:22            1            0.19   \n",
       "14  2017-12-06 15:20:16 - 2017-12-06 12:55:16           20           25.55   \n",
       "15  2017-12-05 14:25:09 - 2017-12-05 12:00:10           16           49.52   \n",
       "16  2017-12-04 14:05:04 - 2017-12-04 11:40:03           19           34.58   \n",
       "17  2017-12-02 13:59:51 - 2017-12-02 11:34:50           10           14.74   \n",
       "\n",
       "   mk_test_trend  mk_test_p_value  mk_test_z_value  something_FFT  MeanRange  \n",
       "0     increasing     1.023404e-12         7.127335      1139657.0       48.5  \n",
       "1     increasing     1.362595e-02         2.466976      1024039.0      -54.5  \n",
       "2     increasing     9.370282e-14         7.449454      2205621.0       23.5  \n",
       "3       no trend     1.000000e+00         0.000000            NaN      -35.5  \n",
       "4     increasing     6.883383e-15         7.786609      2254382.0       18.5  \n",
       "5     decreasing     2.682763e-06        -4.693724       573045.0      -40.5  \n",
       "6     increasing     3.053511e-07         5.120114      1475883.0       58.5  \n",
       "7     increasing     3.680856e-11         6.616386       768454.0      -34.5  \n",
       "8     increasing     1.239009e-13         7.412579      1609758.0      106.5  \n",
       "9     increasing     2.372809e-02         2.261504       802117.0       62.5  \n",
       "10    increasing     4.042417e-04         3.537299      1150129.0       12.5  \n",
       "11    increasing     5.463633e-06         4.546149       762423.0      -71.5  \n",
       "12    decreasing     7.353213e-05        -3.964558      1406034.0      -53.5  \n",
       "13    decreasing     9.504496e-05        -3.902905       646768.0      -83.5  \n",
       "14    increasing     6.829478e-05         3.982150      1195235.0      -47.5  \n",
       "15    increasing     1.043832e-12         7.124587      1433475.0      119.5  \n",
       "16    increasing     2.261948e-10         6.342412      1354065.0      -11.5  \n",
       "17    increasing     1.268998e-10         6.430841       994191.0      -17.5  "
      ]
     },
     "execution_count": 283,
     "metadata": {},
     "output_type": "execute_result"
    }
   ],
   "source": [
    "feature_matrix[4]"
   ]
  }
 ],
 "metadata": {
  "kernelspec": {
   "display_name": "Python 3",
   "language": "python",
   "name": "python3"
  },
  "language_info": {
   "codemirror_mode": {
    "name": "ipython",
    "version": 3
   },
   "file_extension": ".py",
   "mimetype": "text/x-python",
   "name": "python",
   "nbconvert_exporter": "python",
   "pygments_lexer": "ipython3",
   "version": "3.7.3"
  }
 },
 "nbformat": 4,
 "nbformat_minor": 2
}
